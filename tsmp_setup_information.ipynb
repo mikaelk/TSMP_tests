{
 "cells": [
  {
   "cell_type": "markdown",
   "id": "4cce43c5-b5f8-4865-991f-1b9df5c7c359",
   "metadata": {},
   "source": [
    "# Info to setup TSMP cases #"
   ]
  },
  {
   "cell_type": "markdown",
   "id": "7edb0714-8c9c-4811-a61b-f6fa9fd77773",
   "metadata": {
    "tags": []
   },
   "source": [
    "# CLM"
   ]
  },
  {
   "cell_type": "markdown",
   "id": "0ac8c03d-d856-4adb-ad78-05657e850b77",
   "metadata": {},
   "source": [
    "\n",
    "Required atmospheric forcings: https://www2.cesm.ucar.edu/models/cesm1.2/clm/models/lnd/clm/doc/UsersGuide/x12979.html\n",
    "\n",
    "See also the CLM source code: src/main/atmdrvMod.F90"
   ]
  },
  {
   "cell_type": "markdown",
   "id": "01238302-4999-453b-a387-bed558dd46e1",
   "metadata": {},
   "source": [
    "Input parameters in lnd.stdin\n",
    "\n",
    "See also the CLM source code: src/main/controlMod.F90"
   ]
  },
  {
   "cell_type": "code",
   "execution_count": null,
   "id": "9f3bf438-b2b2-4c13-b247-2bf58cce6969",
   "metadata": {},
   "outputs": [],
   "source": [
    "&clm_inparm\n",
    " caseid         = 'clm' #case name and title\n",
    " ctitle         = 'clm' \n",
    " nsrest         =  0 # integer flag. 0: initial run. 1: restart: 3: branch\n",
    " nelapse        =  13 #number of timesteps (positive) or days (negative value) \n",
    " dtime          =  3600 #time step (=60 * 60 = 1 hour)\n",
    " start_ymd      =  20100101\n",
    " start_tod      =  0 # starting time; e.g. 43200 (=12 * 60 * 60 = 12 hours)\n",
    "\n",
    " finidat        = '' #IC file\n",
    " flndtopo       = '/p/scratch/cjibg36/kaandorp2/TSMP/tsmp_cordex_109x106/input_clm/topodata_cordex_109x106.nc'\n",
    " fsurdat        = '/p/scratch/cjibg36/kaandorp2/TSMP/tsmp_cordex_109x106/input_clm/surfdata_cordex_109x106.nc'\n",
    " fatmgrid       = '/p/scratch/cjibg36/kaandorp2/TSMP/tsmp_cordex_109x106/input_clm/griddata_cordex_109x106.nc'\n",
    " fatmlndfrc     = '/p/scratch/cjibg36/kaandorp2/TSMP/tsmp_cordex_109x106/input_clm/fracdata_cordex_109x106.nc'\n",
    " fatmtopo       = ''\n",
    " fpftcon        = '/p/scratch/cjibg36/kaandorp2/TSMP/tsmp_cordex_109x106/input_clm/pft-physiology.c070207'\n",
    " offline_atmdir = '/p/scratch/cjibg36/kaandorp2/TSMP/tsmp_cordex_109x106/input_atm'\n",
    " frivinp_rtm    = '/p/scratch/cjibg36/kaandorp2/TSMP/tsmp_cordex_109x106/input_clm/rdirc.05.061026'\n",
    "\n",
    " hist_empty_htapes = .true.\n",
    " hist_dov2xy    = .true.\n",
    " hist_avgflag_pertape = 'A'\n",
    " hist_nhtfrq    =  -1 #integer history interval (+ = iterations,  - = hours, 0=monthly ave)\n",
    " hist_mfilt     =  1 #integer number of time samples per history file\n",
    " hist_crtinic   = 'NONE'\n",
    " mss_irt        =  0\n",
    " hist_fincl1     = 'H2OSOI','SOILLIQ','WT','FSH','FSDS','FLDS','FGR','FGEV','FCTR','FCEV','FSR','FIRA','TBOT','TSA','QFLX_RAIN_GRND','QFLX_SNOW_GRND','QFLX_EVAP_TOT'\n",
    "\n",
    " irad           =  1\n",
    " wrtdia         = .true.\n",
    " archive_dir    = ''\n",
    " rest_flag      = .true.\n",
    " rpntpath       = '/p/scratch/cjibg36/kaandorp2/TSMP/tsmp_cordex_109x106/input_clm/lnd.clmoas.rpointer'\n",
    "/\n",
    " &prof_inparm\n",
    " /\n"
   ]
  },
  {
   "cell_type": "markdown",
   "id": "30fe7d91-62cd-4654-b12d-cc318ffba846",
   "metadata": {
    "tags": []
   },
   "source": [
    "# Parflow"
   ]
  },
  {
   "cell_type": "markdown",
   "id": "00b21794-77eb-435c-9f55-6fc1d7a1e033",
   "metadata": {},
   "source": [
    "parflow binary files to .sa: https://icg4geo.icg.kfa-juelich.de/SoftwareTools/prepro_parflowclm_de05_static_fields/-/blob/bc01fc3c92da18f2431cd84e48aba9decca45127/Texture_Indicator/convert_pfb2sa.tcl"
   ]
  },
  {
   "cell_type": "markdown",
   "id": "951ea8eb-b9ff-4f72-a190-9c8aeccf9e2d",
   "metadata": {
    "tags": []
   },
   "source": [
    "# Gridding"
   ]
  },
  {
   "cell_type": "markdown",
   "id": "fd625a45-8c47-41e4-a56b-b45c7ebdc911",
   "metadata": {},
   "source": [
    "Python regridding: https://xesmf.readthedocs.io/en/latest/why.html \n",
    "\n",
    "ncl regridding: https://www.ncl.ucar.edu/Applications/regrid.shtml\n",
    "\n",
    "Interpolation using cdo: https://code.mpimet.mpg.de/projects/cdo/embedded/index.html"
   ]
  },
  {
   "cell_type": "markdown",
   "id": "f1f8f63d-5ee9-46c3-b1a0-b7abe73a084f",
   "metadata": {},
   "source": [
    "### Getting corner points for conservative regridding:\n",
    "\n",
    "Create griddescription file for cdo, shift x/y locations by .5 dx/dy:\n",
    "\n",
    "griddes_EUR-11_436x424_corners.txt \n",
    "\n",
    "Create file with regridded quantity, everything is given in rotated lon/lat coordinates now:\n",
    "\n",
    "cdo remapnn,griddes_EUR-11_436x424_corners.txt Tair_WFDE5_CRU_201001_v2.1.nc Tair_corner.nc \n",
    "\n",
    "Convert to regular lon/lat grid:\n",
    "\n",
    "cdo setgridtype,regular Tair_centre.nc Tair_centre_lonlat.nc"
   ]
  },
  {
   "cell_type": "markdown",
   "id": "fbb4f31f-7662-417a-8241-1713f6364866",
   "metadata": {},
   "source": [
    "## xesmf\n",
    "\n",
    "install xesmf via conda/mamba, and create the custom kernel (see below)\n",
    "\n",
    "important: install ipykernel in the conda environment as well!!\n",
    "\n"
   ]
  },
  {
   "cell_type": "markdown",
   "id": "a27d6f95-21aa-4d9c-8988-1c06f7eaceda",
   "metadata": {
    "tags": []
   },
   "source": [
    "# Programming on cluster"
   ]
  },
  {
   "cell_type": "markdown",
   "id": "3ce75fa1-fe0c-46b3-bc7d-eb2b13986664",
   "metadata": {},
   "source": [
    "Custom kernels for jupyterlab: https://docs.jupyter-jsc.fz-juelich.de/github/FZJ-JSC/jupyter-jsc-notebooks/blob/documentation/03-HowTos/Create_JupyterKernel_conda.ipynb"
   ]
  }
 ],
 "metadata": {
  "kernelspec": {
   "display_name": "Python 3 (ipykernel)",
   "language": "python",
   "name": "python3"
  },
  "language_info": {
   "codemirror_mode": {
    "name": "ipython",
    "version": 3
   },
   "file_extension": ".py",
   "mimetype": "text/x-python",
   "name": "python",
   "nbconvert_exporter": "python",
   "pygments_lexer": "ipython3",
   "version": "3.9.6"
  }
 },
 "nbformat": 4,
 "nbformat_minor": 5
}
